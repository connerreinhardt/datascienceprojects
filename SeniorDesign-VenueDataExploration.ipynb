{
  "nbformat": 4,
  "nbformat_minor": 0,
  "metadata": {
    "colab": {
      "name": "SeniorDesign23.ipynb",
      "provenance": [],
      "collapsed_sections": [],
      "toc_visible": true,
      "include_colab_link": true
    },
    "kernelspec": {
      "name": "python3",
      "display_name": "Python 3"
    }
  },
  "cells": [
    {
      "cell_type": "markdown",
      "metadata": {
        "id": "view-in-github",
        "colab_type": "text"
      },
      "source": [
        "<a href=\"https://colab.research.google.com/github/connerreinhardt/datascienceprojects/blob/master/SeniorDesign-VenueDataExploration.ipynb\" target=\"_parent\"><img src=\"https://colab.research.google.com/assets/colab-badge.svg\" alt=\"Open In Colab\"/></a>"
      ]
    },
    {
      "cell_type": "code",
      "metadata": {
        "id": "KV4KjOOBkskX",
        "colab_type": "code",
        "outputId": "84846601-77bb-4079-dba6-680ef0bca378",
        "colab": {
          "base_uri": "https://localhost:8080/",
          "height": 189
        }
      },
      "source": [
        "from google.colab import drive\n",
        "drive.mount('/content/drive',force_remount=True)"
      ],
      "execution_count": 5,
      "outputs": [
        {
          "output_type": "stream",
          "text": [
            "Go to this URL in a browser: https://accounts.google.com/o/oauth2/auth?client_id=947318989803-6bn6qk8qdgf4n4g3pfee6491hc0brc4i.apps.googleusercontent.com&redirect_uri=urn%3Aietf%3Awg%3Aoauth%3A2.0%3Aoob&scope=email%20https%3A%2F%2Fwww.googleapis.com%2Fauth%2Fdocs.test%20https%3A%2F%2Fwww.googleapis.com%2Fauth%2Fdrive%20https%3A%2F%2Fwww.googleapis.com%2Fauth%2Fdrive.photos.readonly%20https%3A%2F%2Fwww.googleapis.com%2Fauth%2Fpeopleapi.readonly&response_type=code\n",
            "\n",
            "Enter your authorization code:\n",
            "··········\n",
            "Mounted at /content/drive\n"
          ],
          "name": "stdout"
        }
      ]
    },
    {
      "cell_type": "code",
      "metadata": {
        "id": "ShXLtn41OoPm",
        "colab_type": "code",
        "colab": {}
      },
      "source": [
        "##BEGIN DATA CLEANING\n",
        "import numpy as np\n",
        "import pandas as pd"
      ],
      "execution_count": 0,
      "outputs": []
    },
    {
      "cell_type": "code",
      "metadata": {
        "id": "I89Efk0qPBUW",
        "colab_type": "code",
        "colab": {}
      },
      "source": [
        "#***LONG RUN TIME: RUN ONLY ONCE***\n",
        "#Opening the files for each document TODO upload each of the files as CSV so that we can read and parse them\n",
        "\n",
        "dirFilePath = '/content/drive/My Drive/Colab Notebooks/Senior Design Team 23 Code Lab/'\n",
        "foodFilePath = dirFilePath + 'FoodData-8-29-19.xlsx'\n",
        "attendanceFilePath = dirFilePath + 'GameAttendance-11-09-18.xlsx'\n",
        "\n",
        "#all food data\n",
        "foodData = pd.read_excel(foodFilePath, sheet_name='Stand')\n",
        "\n",
        "#all attendance data\n",
        "attendanceData = pd.read_excel(attendanceFilePath)\n",
        "print(\"Data imported...\")"
      ],
      "execution_count": 0,
      "outputs": []
    },
    {
      "cell_type": "code",
      "metadata": {
        "id": "bKyzyJK3PZgh",
        "colab_type": "code",
        "colab": {}
      },
      "source": [
        "#Get vendor locations data\n",
        "vendorLocationFilePath = dirFilePath + 'VendorBlocks.xlsx'\n",
        "vendorLocations = pd.read_excel(vendorLocationFilePath)\n",
        "\n",
        "#save event columns and section columns as strings (because they are mixed int and string initially: e.g. \"101\",\"101A\")\n",
        "attendanceData['event_name'] = attendanceData['event_name'].astype(str)\n",
        "attendanceData['section_name'] = attendanceData['section_name'].astype(str)\n",
        "\n",
        "#sort for only the basketball games (then remove the H that denotes them)\n",
        "attendanceData = attendanceData[attendanceData['event_name'].str.contains(\"H\")]\n",
        "attendanceData['event_name'] = attendanceData['event_name'].map(lambda x: str(x).replace('H',''))\n",
        "\n",
        "#delete excess day of week information\n",
        "del foodData['Day']"
      ],
      "execution_count": 0,
      "outputs": []
    },
    {
      "cell_type": "code",
      "metadata": {
        "id": "X1cB1-WKQIm1",
        "colab_type": "code",
        "colab": {}
      },
      "source": [
        "#***LONG RUN TIME: RUN ONLY ONCE***\n",
        "#block_name is the name of the restaurant locality blocks that we're predefining\n",
        "attendanceData['block_name'] = 'NA'\n",
        "\n",
        "#define block names for floor 1\n",
        "for i in ['111','112','113','114','115','116']:\n",
        "    attendanceData.loc[attendanceData['section_name'].str.contains(i),'block_name'] = '1N'\n",
        "for i in ['117','118','119','120','121']:\n",
        "    attendanceData.loc[attendanceData['section_name'].str.contains(i),'block_name'] = '1E'\n",
        "for i in ['122','101','102','103','104','105']:\n",
        "    attendanceData.loc[attendanceData['section_name'].str.contains(i),'block_name'] = '1S'\n",
        "for i in ['106','107','108','109','110']:\n",
        "    attendanceData.loc[attendanceData['section_name'].str.contains(i),'block_name'] = '1W'\n",
        "\n",
        "#define block names for floor 2\n",
        "for i in ['213','214','215','216','217','218']:\n",
        "    attendanceData.loc[attendanceData['section_name'].str.contains(i),'block_name'] = '2N'\n",
        "for i in ['219','220','221','222','223','224','225','226']:\n",
        "    attendanceData.loc[attendanceData['section_name'].str.contains(i),'block_name'] = '2E'\n",
        "for i in ['227','201','202','203','204','205']:\n",
        "    attendanceData.loc[attendanceData['section_name'].str.contains(i),'block_name'] = '2S'\n",
        "for i in ['206','207','208','209','210','211','212']:\n",
        "    attendanceData.loc[attendanceData['section_name'].str.contains(i),'block_name'] = '2W'\n",
        "print(\"Block data appended...\")"
      ],
      "execution_count": 0,
      "outputs": []
    },
    {
      "cell_type": "code",
      "metadata": {
        "id": "VlLVM4OEQKNB",
        "colab_type": "code",
        "colab": {}
      },
      "source": [
        "#add in the block_name information to each vendor on this fooddata list\n",
        "foodData['block_name'] = 'NA'\n",
        "#print(vendorLocations.head())\n",
        "for vendor in vendorLocations['Vendor Name']:\n",
        "    vendorLoc = vendorLocations.loc[vendorLocations['Vendor Name']==vendor, ['Block']].values[0][0]\n",
        "    foodData.loc[foodData['Stand']==vendor,'block_name'] = vendorLoc\n",
        "    \n",
        "#add in the event date in the same naming convention as attendance\n",
        "foodData['DateStr'] = pd.to_datetime(foodData['Date'],format='%y%m%d').astype(str)\n",
        "foodData['DateStr'] = foodData['DateStr'].map(lambda x: str(x).replace('-',''))\n",
        "foodData.DateStr = foodData.DateStr.str[2:]\n",
        "\n",
        "#print(foodData.head())\n",
        "eventList = foodData[['Date','Event','DateStr']].drop_duplicates()\n",
        "del foodData['Date']\n",
        "del foodData['Event']\n",
        "\n",
        "#print(vendorLocations.head())\n",
        "#print(eventList.head())"
      ],
      "execution_count": 0,
      "outputs": []
    },
    {
      "cell_type": "code",
      "metadata": {
        "id": "tNgwbpDHQOZR",
        "colab_type": "code",
        "colab": {}
      },
      "source": [
        "#aggregate attendance data for each section\n",
        "attData = attendanceData.groupby(['event_name','block_name'],as_index=False).agg(\n",
        "        {\n",
        "             'entry':\"sum\",    #sum distinct entering users\n",
        "             'Distributed': \"sum\",  #sum total distributed tickets\n",
        "             'acct_id': 'nunique'  #count distinct users purchasing\n",
        "        }\n",
        ")\n",
        "\n",
        "#print(attData.head()) #search by event name\n",
        "#print(foodData.head())"
      ],
      "execution_count": 0,
      "outputs": []
    },
    {
      "cell_type": "code",
      "metadata": {
        "id": "SRyZLw3rQP85",
        "colab_type": "code",
        "colab": {}
      },
      "source": [
        "#remove rows without a block name in place\n",
        "foodData = foodData[foodData['block_name'].apply(lambda x: x!='NA')] #remove all rows with block_name \"NA\"\n",
        "foodData = foodData.dropna(subset=['block_name']) #remove all rows with block_name \"NaN\""
      ],
      "execution_count": 0,
      "outputs": []
    },
    {
      "cell_type": "code",
      "metadata": {
        "id": "HgWjy9s7QSSZ",
        "colab_type": "code",
        "colab": {}
      },
      "source": [
        "#***LONG RUN TIME: RUN ONLY ONCE***\n",
        "#create the combined dataset dataframe\n",
        "mergedData = pd.DataFrame(columns = ['eventDesc', 'eventDate', 'DateStr', 'block_name', 'local_attendance', \n",
        "                                     'local_ticket_sales', 'local_ticket_buyers',\n",
        "                                     'Stand','vendor_opening_time', 'Sales', 'Units', 'Txns', 'POS'])\n",
        "\n",
        "eventDateStrList = eventList['DateStr']\n",
        "\n",
        "for event in eventDateStrList: #iterate through all events    \n",
        "    eventDesc = eventList.loc[eventList['DateStr']==event, ['Event']].values[0][0] #name of event\n",
        "    eventDate = ventDesc = eventList.loc[eventList['DateStr']==event, ['Date']].values[0][0] #event date\n",
        "    \n",
        "    eventFoodData = foodData[foodData['DateStr']==event]\n",
        "    eventAttData = attData[attData['event_name']==event] \n",
        "    \n",
        "    if eventFoodData.empty: ##ERROR - must all be the same length\n",
        "        print(\"-> Exclude \" + eventDesc + \" (\" + event + \") due to lacking attendance data.\")\n",
        "    elif eventAttData.empty:\n",
        "        print(\"-> Exclude \" + eventDesc + \" (\" + event + \") due to lacking attendance data.\")\n",
        "    \n",
        "    else: \n",
        "        vendorStalls = eventFoodData['Stand'].values\n",
        "        for vendor in vendorStalls: #go through all vendors\n",
        "            \n",
        "            vendorFoodData = eventFoodData[eventFoodData['Stand']==vendor] #find the data from just this event\n",
        "\n",
        "            vendorBlock = vendorFoodData['block_name'].drop_duplicates().values[0] #vendor location\n",
        "\n",
        "            localAtt = eventAttData[eventAttData['block_name']==vendorBlock]\n",
        "\n",
        "            tempDictVendor = vendorFoodData.to_dict('list')\n",
        "            tempDictAtt = localAtt.to_dict('list')\n",
        "\n",
        "            dataToAdd = {**tempDictAtt,**tempDictVendor}\n",
        "\n",
        "            dataToAdd.update({'eventDate' : eventDate})\n",
        "            dataToAdd.update({'eventDesc' : eventDesc})\n",
        "\n",
        "            del dataToAdd[\"event_name\"]\n",
        "\n",
        "            dataToAdd['local_attendance'] = dataToAdd.pop('entry')\n",
        "            dataToAdd['local_ticket_sales'] = dataToAdd.pop('Distributed')\n",
        "            dataToAdd['local_ticket_buyers'] = dataToAdd.pop('acct_id')\n",
        "            dataToAdd['vendor_opening_time'] = dataToAdd.pop('Start')\n",
        "\n",
        "            dfToAdd = pd.DataFrame(dataToAdd)\n",
        "\n",
        "            mergedData = pd.concat([mergedData, dfToAdd])\n",
        "\n",
        "            #print(localAtt)\n",
        "            #print(vendorFoodData)\n",
        "#print(mergedData)"
      ],
      "execution_count": 0,
      "outputs": []
    },
    {
      "cell_type": "code",
      "metadata": {
        "id": "iYCCr6k_SnXP",
        "colab_type": "code",
        "colab": {}
      },
      "source": [
        "pip install xlsxwriter"
      ],
      "execution_count": 0,
      "outputs": []
    },
    {
      "cell_type": "code",
      "metadata": {
        "id": "4yZTAQKdQd7v",
        "colab_type": "code",
        "colab": {}
      },
      "source": [
        "import xlsxwriter\n",
        "# Create a Pandas Excel writer using XlsxWriter as the engine.\n",
        "writer = pd.ExcelWriter('AUTOGEN_merged_output.xlsx', engine='xlsxwriter')\n",
        "\n",
        "# Convert the dataframe to an XlsxWriter Excel object.\n",
        "mergedData.to_excel(writer, sheet_name='Sheet1')\n",
        "\n",
        "# Close the Pandas Excel writer and output the Excel file.\n",
        "writer.save()\n",
        "print(\"File is written to disk...\")"
      ],
      "execution_count": 0,
      "outputs": []
    },
    {
      "cell_type": "code",
      "metadata": {
        "id": "0BWwEhIVQj7-",
        "colab_type": "code",
        "colab": {}
      },
      "source": [
        "##BEGIN DATA ANALYSIS ********** DON'T EDIT THE PIPELINE BEFORE THIS **********\n",
        "print(mergedData.head())\n",
        "for col in mergedData.columns: \n",
        "    print(col)"
      ],
      "execution_count": 0,
      "outputs": []
    },
    {
      "cell_type": "code",
      "metadata": {
        "id": "AL_--DZoso1H",
        "colab_type": "code",
        "colab": {}
      },
      "source": [
        "# Gets rid of all rows where local_attendance == 0\n",
        "mergedData = mergedData[mergedData['local_attendance'] != 0]"
      ],
      "execution_count": 0,
      "outputs": []
    },
    {
      "cell_type": "code",
      "metadata": {
        "id": "KgU66YPLROPn",
        "colab_type": "code",
        "colab": {}
      },
      "source": [
        "import matplotlib.pyplot as plt\n",
        "from matplotlib.pyplot import cm\n",
        "#plot sales vs attendance for each vendor\n",
        "vendorList = mergedData['Stand'].drop_duplicates().values\n",
        "\n",
        "color=iter(cm.rainbow(np.linspace(0,1,len(vendorList))))\n",
        "for vendor in vendorList:\n",
        "\n",
        "    c=next(color)\n",
        "    vendorData = mergedData[mergedData['Stand']==vendor]\n",
        "    \n",
        "    x = list(vendorData['local_attendance'])\n",
        "    y = list(vendorData['Sales'])\n",
        "    plt.scatter(x, y)\n",
        "\n",
        "    z = np.polyfit(x, y, 1)\n",
        "    p = np.poly1d(z)\n",
        "    plt.plot(x,p(x),\"r--\",c=c)\n",
        "    plt.title('Local Attendance vs Sales' + vendor)\n",
        "    \n",
        "    plt.xlabel('Local Block Attendance')\n",
        "    plt.ylabel('Sales ($)')\n",
        "    \n",
        "    plt.show()\n",
        "    print (\"y=%.6fx+(%.6f)\"%(z[0],z[1])+\"\\n\")"
      ],
      "execution_count": 0,
      "outputs": []
    },
    {
      "cell_type": "code",
      "metadata": {
        "id": "X1GFtPfaRxIK",
        "colab_type": "code",
        "colab": {}
      },
      "source": [
        ""
      ],
      "execution_count": 0,
      "outputs": []
    }
  ]
}