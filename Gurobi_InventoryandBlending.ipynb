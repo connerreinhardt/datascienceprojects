{
 "cells": [
  {
   "cell_type": "markdown",
   "metadata": {},
   "source": [
    "<h1> Problem 1 </h1>\n",
    "\n",
    "<img src=\"https://imgur.com/KQqS2Bm.png\">"
   ]
  },
  {
   "cell_type": "markdown",
   "metadata": {
    "collapsed": true
   },
   "source": [
    "**Data**\n",
    "\n",
    "i = 1,...,8 = inventory piles\n",
    "\n",
    "k = 1,...,25 = customers\n",
    "\n",
    "b<sub>i</sub> = Per ton BPL level of pile i\n",
    "\n",
    "a<sub>i</sub> = Per ton asset value of pile i\n",
    "\n",
    "r<sub>i,k</sub> = Contract net profit of shipping one ton of pile i to customer k\n",
    "\n",
    "h<sub>i</sub> = Starting inventory (tons) of pile i\n",
    "\n",
    "q<sub>i</sub> = Amount (tons) of inventory collected by mines to pile i\n",
    "\n",
    "$\\underline s_k$ = minimum tons sent to customer k\n",
    "\n",
    "$\\overline s_k$ = maximum tons sent to customer k\n",
    "\n",
    "$\\underline p_k$ = minimum per ton BPL level sent to customer k\n",
    "\n",
    "$\\overline p_k$ = maximum per ton BPL level sent to customer k\n",
    "\n",
    "**Decision Variables**\n",
    "\n",
    "x<sub>i,k</sub> = Quantity (tons) shipped from pile i to customer k\n",
    "\n",
    "**Objective Function**\n",
    "\n",
    "__min__ $\\sum_{k=1}^{25}\\sum_{i=1}^{8} (r_{i,k} * x_{i,k}) + \\sum_{i=1}^{8} (a_i * (h_i + q_i - \\sum_{k=1}^{25}x_{i,k}))$\n",
    "\n",
    "_ (profit) + (asset value)_\n",
    "\n",
    "**Constraints**\n",
    "\n",
    "Conserve inventory: $\\sum_{k=1}^{25} x_{i,k} \\leq h_i + q_i \\forall  i \\in {1,...,8}$\n",
    "\n",
    "_-->total amount sent to customers from a pile <= pile initial inventory + inventory collected from mine_\n",
    "\n",
    "Contract volume max: $\\sum_{i=1}^{8} x_{i,k} \\leq \\overline s_k \\forall  k \\in {1,...,25}$\n",
    "\n",
    "Contract volume min: $\\sum_{i=1}^{8} x_{i,k} \\geq \\underline s_k \\forall  k \\in {1,...,25}$\n",
    "\n",
    "Contract BPL level max: $\\sum_{i=1}^{8} (b_i * x_{i,k}) \\leq (\\overline p_k * \\sum_{i=1}^{8} x_{i,k}) \\forall k \\in {1,...,25}$\n",
    "\n",
    "_-->BPL/ton in pile X total tons going to customer k <= max acceptable BPL/ton X total tons going to customer k_\n",
    "\n",
    "Contract BPL level max: $\\sum_{i=1}^{8} (b_i * x_{i,k}) \\geq (\\underline p_k * \\sum_{i=1}^{8} x_{i,k}) \\forall k \\in {1,...,25}$\n",
    "\n",
    "_-->BPL/ton in pile X total tons going to customer k >= min acceptable BPL/ton X total tons going to customer k_\n",
    "\n",
    "$x_{i,k} \\geq 0 \\forall k \\in {1,...,25}, i \\in {1,...,8}$"
   ]
  },
  {
   "cell_type": "markdown",
   "metadata": {},
   "source": [
    "<h1> Problem 2 </h1>\n",
    "\n",
    "<img src=\"https://imgur.com/aQynDc1.png\">"
   ]
  },
  {
   "cell_type": "markdown",
   "metadata": {},
   "source": [
    "<h2>General Solution (a)</h2>\n",
    "\n",
    "**Data**\n",
    "\n",
    "r<sub>i</sub> = Required number of hearts of size i\n",
    "\n",
    "f<sub>i,j</sub> = Probability of heart size i being produced by supplier j\n",
    "\n",
    "c<sub>j</sub> = Cost of a heart from supplier j\n",
    "\n",
    "a<sub>j</sub> = Availability of hearts from supplier j\n",
    "\n",
    "**Decision Variables**\n",
    "\n",
    "x<sub>i,j</sub> = Quantity of heart i sourced from supplier j\n",
    "\n",
    "**Objective Function**\n",
    "\n",
    "__min__ $\\sum_{j=1}^{5} c_j * (\\sum_{i=1}^{7} x_{i,j})$\n",
    "\n",
    "_(cost hearts from a supplier) * (total amount of hearts sent from a supplier)_\n",
    "\n",
    "**Constraints**\n",
    "\n",
    "Meet required demand: $\\sum_{i=1}^{7} x_{i,j} \\geq r_i \\forall i \\in \\{1,...,7\\} \\forall j \\in \\{1,...,5\\} $\n",
    "\n",
    "_-->total number of hearts of a given size >= required number of hearts of a given size_\n",
    "\n",
    "Probability of hearts met: $x_{i,j} \\leq a_j*(\\sum_{i=1}^{7} f_{i,j}) \\forall i \\in \\{1,...,7\\ \\forall j \\in \\{1,...,5\\}$\n",
    "\n",
    "_-->total hearts of size i bought from supplier j <= total hearts available * probability of heart size is i _\n",
    "\n",
    "$x_{i,j} \\geq 0 \\forall i \\in \\{1,...,7\\} \\forall j \\in \\{1,...,5\\}$"
   ]
  },
  {
   "cell_type": "markdown",
   "metadata": {},
   "source": [
    "<h2>Solution with Integer (b)</h2>"
   ]
  },
  {
   "cell_type": "code",
   "execution_count": 48,
   "metadata": {},
   "outputs": [
    {
     "name": "stdout",
     "output_type": "stream",
     "text": [
      "Optimize a model with 77 rows, 35 columns and 105 nonzeros\n",
      "Coefficient statistics:\n",
      "  Matrix range     [1e+00, 1e+00]\n",
      "  Objective range  [2e+00, 4e+00]\n",
      "  Bounds range     [0e+00, 0e+00]\n",
      "  RHS range        [2e+01, 2e+02]\n",
      "Presolve removed 71 rows and 19 columns\n",
      "Presolve time: 0.01s\n",
      "Presolved: 6 rows, 16 columns, 16 nonzeros\n",
      "\n",
      "Iteration    Objective       Primal Inf.    Dual Inf.      Time\n",
      "       0    4.8800000e+02   5.312500e+01   0.000000e+00      0s\n",
      "       6    1.4185000e+03   0.000000e+00   0.000000e+00      0s\n",
      "\n",
      "Solved in 6 iterations and 0.01 seconds\n",
      "Optimal objective  1.418500000e+03\n",
      "   Size  Supplier  Amount Ordered\n",
      "0   2.0       3.0           120.0\n",
      "1   3.0       1.0            25.0\n",
      "2   3.0       2.0            45.0\n",
      "3   3.0       3.0           130.0\n",
      "4   4.0       2.0            20.0\n",
      "5   4.0       3.0           130.0\n",
      "6   5.0       3.0            60.0\n",
      "7   6.0       3.0            45.0\n"
     ]
    }
   ],
   "source": [
    "from gurobipy import *\n",
    "import numpy as np\n",
    "import pandas as pd\n",
    "\n",
    "#add data\n",
    "r = [20, 30, 120, 200, 150, 60, 45] #required hearts\n",
    "f = [[0.4,0.4,0.2, 0, 0, 0, 0], #probability of heart sizes\n",
    "    [0.1, 0.2, 0.3, 0.2, 0.2, 0, 0],\n",
    "    [0, 0, 0.4, 0.3, 0.3, 0, 0],\n",
    "    [0, 0, 0.2, 0.2, 0.2, 0.2, 0.2],\n",
    "    [0, 0, 0, 0, 0.2, 0.3, 0.5]]\n",
    "c = [2.5,3.2,3.0,2.1,3.9] #cost from supplier j\n",
    "a = [500,330,150,650,300] #availability of hearts from supplier j\n",
    "\n",
    "#create model\n",
    "m = Model(\"HW2PR2\")\n",
    "\n",
    "#create decision variables\n",
    "x = m.addVars(7,5,vtype= GRB.CONTINUOUS)\n",
    "\n",
    "#add constraints\n",
    "\n",
    "#meet req demand\n",
    "m.addConstrs((quicksum(x[i,j] for j in range(5)) >= r[i] for i in range(7))) \n",
    "#add availability constraint\n",
    "m.addConstrs(x[i,j] <= f[j][i]*a[j] for i in range(7) for j in range(5))\n",
    "#greater than 0 constraint\n",
    "m.addConstrs(x[i,j] >= 0 for i in range(7) for j in range(5))\n",
    "\n",
    "#set objective function\n",
    "cost = quicksum(np.transpose(c)[j]*x[i,j] for j in range(5) for i in range(7))\n",
    "m.setObjective(cost, GRB.MINIMIZE)\n",
    "\n",
    "#run model\n",
    "m.optimize()\n",
    "\n",
    "df = pd.DataFrame(columns=['Size','Supplier','Amount Ordered'])\n",
    "\n",
    "for i in range(1,7):\n",
    "    for j in range(1,5):\n",
    "        toadd = {\"Size\":i,\"Amount Ordered\" :x[i,j].x,\"Supplier\" : j}\n",
    "        if x[i,j].x > 0:\n",
    "            df = df.append(toadd,ignore_index=True)\n",
    "print(df)"
   ]
  },
  {
   "cell_type": "markdown",
   "metadata": {},
   "source": [
    "<h2>Solution with Integer (c)</h2>"
   ]
  },
  {
   "cell_type": "code",
   "execution_count": 51,
   "metadata": {},
   "outputs": [
    {
     "name": "stdout",
     "output_type": "stream",
     "text": [
      "Optimize a model with 77 rows, 35 columns and 105 nonzeros\n",
      "Variable types: 0 continuous, 35 integer (0 binary)\n",
      "Coefficient statistics:\n",
      "  Matrix range     [1e+00, 1e+00]\n",
      "  Objective range  [2e+00, 4e+00]\n",
      "  Bounds range     [0e+00, 0e+00]\n",
      "  RHS range        [2e+01, 2e+02]\n",
      "Found heuristic solution: objective 1598.7000000\n",
      "Presolve removed 76 rows and 31 columns\n",
      "Presolve time: 0.00s\n",
      "Presolved: 1 rows, 4 columns, 4 nonzeros\n",
      "Found heuristic solution: objective 1511.6000000\n",
      "Variable types: 0 continuous, 4 integer (0 binary)\n",
      "\n",
      "Root relaxation: objective 1.418500e+03, 1 iterations, 0.00 seconds\n",
      "\n",
      "    Nodes    |    Current Node    |     Objective Bounds      |     Work\n",
      " Expl Unexpl |  Obj  Depth IntInf | Incumbent    BestBd   Gap | It/Node Time\n",
      "\n",
      "*    0     0               0    1418.5000000 1418.50000  0.00%     -    0s\n",
      "\n",
      "Explored 0 nodes (1 simplex iterations) in 0.02 seconds\n",
      "Thread count was 4 (of 4 available processors)\n",
      "\n",
      "Solution count 3: 1418.5 1511.6 1513.6 \n",
      "\n",
      "Optimal solution found (tolerance 1.00e-04)\n",
      "Best objective 1.418500000000e+03, best bound 1.418500000000e+03, gap 0.0000%\n",
      "   Size  Supplier  Amount Ordered\n",
      "0   2.0       3.0           120.0\n",
      "1   3.0       1.0            25.0\n",
      "2   3.0       2.0            45.0\n",
      "3   3.0       3.0           130.0\n",
      "4   4.0       2.0            20.0\n",
      "5   4.0       3.0           130.0\n",
      "6   5.0       3.0            60.0\n",
      "7   6.0       3.0            45.0\n"
     ]
    }
   ],
   "source": [
    "from gurobipy import *\n",
    "import numpy as np\n",
    "import pandas as pd\n",
    "\n",
    "#add data\n",
    "r = [20, 30, 120, 200, 150, 60, 45] #required hearts\n",
    "f = [[0.4,0.4,0.2, 0, 0, 0, 0], #probability of heart sizes\n",
    "    [0.1, 0.2, 0.3, 0.2, 0.2, 0, 0],\n",
    "    [0, 0, 0.4, 0.3, 0.3, 0, 0],\n",
    "    [0, 0, 0.2, 0.2, 0.2, 0.2, 0.2],\n",
    "    [0, 0, 0, 0, 0.2, 0.3, 0.5]]\n",
    "c = [2.5,3.2,3.0,2.1,3.9] #cost from supplier j\n",
    "a = [500,330,150,650,300] #availability of hearts from supplier j\n",
    "\n",
    "#create model\n",
    "m = Model(\"HW2PR2\")\n",
    "\n",
    "#create decision variables\n",
    "x = m.addVars(7,5,vtype= GRB.INTEGER)\n",
    "\n",
    "#add constraints\n",
    "\n",
    "#meet req demand\n",
    "m.addConstrs((quicksum(x[i,j] for j in range(5)) >= r[i] for i in range(7))) \n",
    "#add availability constraint\n",
    "m.addConstrs(x[i,j] <= f[j][i]*a[j] for i in range(7) for j in range(5))\n",
    "#greater than 0 constraint\n",
    "m.addConstrs(x[i,j] >= 0 for i in range(7) for j in range(5))\n",
    "\n",
    "#set objective function\n",
    "cost = quicksum(np.transpose(c)[j]*x[i,j] for j in range(5) for i in range(7))\n",
    "m.setObjective(cost, GRB.MINIMIZE)\n",
    "\n",
    "#run model\n",
    "m.optimize()\n",
    "\n",
    "df = pd.DataFrame(columns=['Size','Supplier','Amount Ordered'])\n",
    "\n",
    "for i in range(1,7):\n",
    "    for j in range(1,5):\n",
    "        toadd = {\"Size\":i,\"Amount Ordered\" :x[i,j].x,\"Supplier\" : j}\n",
    "        if x[i,j].x > 0:\n",
    "            df = df.append(toadd,ignore_index=True)\n",
    "print(df)"
   ]
  },
  {
   "cell_type": "markdown",
   "metadata": {},
   "source": [
    "--> There is no difference in the solutions to each of these formulations - both have integer solutions. \n",
    "\n",
    "\n",
    "--> Constraining to only integers increased the solution time by 0.01 seconds."
   ]
  },
  {
   "cell_type": "markdown",
   "metadata": {},
   "source": [
    "<h1> Problem 3 </h1>\n",
    "\n",
    "<img src=\"https://imgur.com/fNtu2cX.png\">\n",
    "<img src=\"https://imgur.com/fldmiiP.png\">\n"
   ]
  },
  {
   "cell_type": "code",
   "execution_count": 13,
   "metadata": {},
   "outputs": [
    {
     "data": {
      "text/plain": [
       "<matplotlib.legend.Legend at 0x10e030c18>"
      ]
     },
     "execution_count": 13,
     "metadata": {},
     "output_type": "execute_result"
    },
    {
     "data": {
      "image/png": "[encoded data removed]",
      "text/plain": [
       "<matplotlib.figure.Figure at 0x105ad6a20>"
      ]
     },
     "metadata": {},
     "output_type": "display_data"
    }
   ],
   "source": [
    "import numpy as np\n",
    "import matplotlib.pyplot as plt\n",
    "%matplotlib inline\n",
    "\n",
    "#Represent x2 as y for the following:\n",
    "# Construct lines\n",
    "# x >= 0\n",
    "x = np.linspace(0, 20, 2000)\n",
    "# y <= 1.5-0.5x\n",
    "y1 = 1.5-0.5*x\n",
    "# y <= 3-2x\n",
    "y2 = 3-2*x\n",
    "# y <= 4-3x\n",
    "y3 = 4-3*x\n",
    "\n",
    "\n",
    "# Make plot\n",
    "plt.plot(x, y1, label=r'$y\\leq1.5-0.5x$')\n",
    "plt.plot(x, y2, label=r'$y\\leq3-2x$')\n",
    "plt.plot(x, y3, label=r'$y\\leq4-3x$')\n",
    "plt.xlim((0, 3))\n",
    "plt.ylim((0, 4))\n",
    "plt.xlabel(r'$x$')\n",
    "plt.ylabel(r'$y$')\n",
    "\n",
    "# Fill feasible region\n",
    "y5 = np.minimum(np.minimum(y1,y2),y3)\n",
    "plt.fill_between(x, y5, color='grey', alpha=0.5)\n",
    "plt.legend(bbox_to_anchor=(1.05, 1), loc=2, borderaxespad=0.)"
   ]
  },
  {
   "cell_type": "markdown",
   "metadata": {},
   "source": [
    "Basic solutions:\n",
    "- (0 , 3)\n",
    "- (0 , 1.5)\n",
    "- (3 , 0)\n",
    "- (4 , 0)\n",
    "- (1 , 1)\n",
    "- (0 , 1.333)\n",
    "- (1.5 , 0)\n",
    "- (0 , 0)\n",
    "\n",
    "Basic feasible solutions:\n",
    "- (1 , 1)\n",
    "- (0 , 1.333)\n",
    "- (1.5 , 0)\n",
    "- (0 , 0)"
   ]
  },
  {
   "cell_type": "markdown",
   "metadata": {},
   "source": [
    "<h1> Problem 4 </h1>\n",
    "\n",
    "<img src=\"https://imgur.com/ulPdtip.png\">\n"
   ]
  },
  {
   "cell_type": "markdown",
   "metadata": {},
   "source": [
    "<h2>Solution</h2>\n",
    "\n",
    "$x_1 + x_2 + 0x_3 + 2x_4 + x_5 + x_6 + x_7 = 2$\n",
    "\n",
    "$0x_1 + 2x_2 + 2x_3 + 0x_4 + 0x_5 + -2x_6 + 1x_7 = 2$\n",
    "\n",
    "$1x_1 + 2x_2 + 1x_3 + 5x_4 + 4x_5 + 3x_6 + 3x_7 = 6$\n",
    "\n",
    "$x_n \\geq 0 \\forall n \\in {1,2,3,4,5,6,7}$\n",
    "\n",
    "\n",
    "\n",
    "a) $x_1 = 1 , x_2 = 1 , x_3 = 0 , x_4 = 0 , x_5 = 0 , x_6 = 0 , x_7 = 0$\n",
    "\n",
    "- $1(1) + 2(1) \\neq 6$\n",
    "- Basic, not feasible (two constraints met, third constraint not met)\n",
    "\n",
    "b) $x_1 = 2 , x_2 = -1 , x_3 = 2 , x_4 = 0 , x_5 = 0 , x_6 = 0 , x_7 = 0$\n",
    "\n",
    "- $1(2) + 1(-1) + 0(2) \\neq 2$\n",
    "- $1(2) + 2(-1) + 1(2) \\neq 6$\n",
    "- Not basic, not feasible (only one constraint met, greater than equalities not met)\n",
    "\n",
    "c) $x_1 = 1 , x_2 = 0 , x_3 = 1 , x_4 = 0 , x_5 = 1 , x_6 = 0 , x_7 = 0$\n",
    "\n",
    "- Basic feasible solution (all equalities met, greater than constraint met for all x_n)\n",
    "\n",
    "d) $x_1 = 0 , x_2 = 0 , x_3 = 1 , x_4 = 1 , x_5 = 0 , x_6 = 0 , x_7 = 0$\n",
    "\n",
    "- Basic feasible solution (all equalities met, greater than constraint met for all x_n)\n",
    "\n",
    "e) $x_1 = 0 , x_2 = 0.5 , x_3 = 0 , x_4 = 0 , x_5 = 0.5 , x_6 = 0 , x_7 = 1$\n",
    "\n",
    "- Basic feasible solution (all equalities met, greater than constraint met for all x_n)\n"
   ]
  },
  {
   "cell_type": "markdown",
   "metadata": {},
   "source": [
    "<h1> Problem 5 </h1>\n",
    "\n",
    "<img src=\"https://imgur.com/L628C6v.png\">\n",
    "\n"
   ]
  },
  {
   "cell_type": "markdown",
   "metadata": {},
   "source": [
    "a) The rank of the matrix is 2.\n",
    "\n",
    "\n",
    "\n",
    "$\n",
    "\\left(\\begin{array}{cc} \n",
    "2 & 1 & 1 \\\\\n",
    "4 & 3 & 3 \\\\\n",
    "3 & 2 & 2 \n",
    "\\end{array}\\right)\n",
    "$\n",
    "⇒\n",
    "$\n",
    "\\left(\\begin{array}{cc} \n",
    "1 & 0 & 0 \\\\\n",
    "0 & 1 & 1 \\\\\n",
    "0 & 0 & 0 \n",
    "\\end{array}\\right)\n",
    "$"
   ]
  },
  {
   "cell_type": "markdown",
   "metadata": {
    "collapsed": true
   },
   "source": [
    "b) The solution matrix can be expressed into the following condensed form$\n",
    "\\left(\\begin{array}{ccc|c} \n",
    "2 & 1 & 1 & 5\\\\\n",
    "4 & 3 & 3 & 9\\\\\n",
    "3 & 2 & 2 & 7\n",
    "\\end{array}\\right)\n",
    "$⇒\n",
    "$\n",
    "\\left(\\begin{array}{ccc|c} \n",
    "1 & 0 & 0 & 3\\\\\n",
    "0 & 1 & 1 & -1\\\\\n",
    "0 & 0 & 0 & 0\n",
    "\\end{array}\\right)\n",
    "$\n",
    "⇒\n",
    "$\n",
    "\\left(\\begin{array}{ccc|c} \n",
    "1 & 0 & 0 & 3\\\\\n",
    "0 & 1 & 1 & -1\\\\\n",
    "\\end{array}\\right)\n",
    "$"
   ]
  },
  {
   "cell_type": "markdown",
   "metadata": {},
   "source": [
    "c) Basic Solutions:\n",
    "\n",
    "- x<sub>1</sub> = 3, x<sub>2</sub> = -1, x<sub>3</sub> free\n",
    "- x<sub>1</sub> = 3, x<sub>3</sub> = -1, x<sub>2</sub> free\n",
    "\n",
    "No basic feasible solutions where all X values are >= 0"
   ]
  },
  {
   "cell_type": "code",
   "execution_count": null,
   "metadata": {
    "collapsed": true
   },
   "outputs": [],
   "source": []
  }
 ],
 "metadata": {
  "kernelspec": {
   "display_name": "Python 3",
   "language": "python",
   "name": "python3"
  },
  "language_info": {
   "codemirror_mode": {
    "name": "ipython",
    "version": 3
   },
   "file_extension": ".py",
   "mimetype": "text/x-python",
   "name": "python",
   "nbconvert_exporter": "python",
   "pygments_lexer": "ipython3",
   "version": "3.6.3"
  }
 },
 "nbformat": 4,
 "nbformat_minor": 2
}
